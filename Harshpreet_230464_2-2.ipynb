{
  "nbformat": 4,
  "nbformat_minor": 0,
  "metadata": {
    "colab": {
      "provenance": []
    },
    "kernelspec": {
      "name": "python3",
      "display_name": "Python 3"
    },
    "language_info": {
      "name": "python"
    }
  },
  "cells": [
    {
      "cell_type": "markdown",
      "source": [
        "INSTRUCTIONS:\n",
        "\n",
        "Go to File -> Save a Copy in Drive and edit this notebook in your copy\n",
        "\n",
        "Name the copy as : Name_RollNo_AssignmentNo\n",
        "\n",
        "Put all your doubts on Whatsapp group.\n",
        "\n",
        "try not to use chatgpt"
      ],
      "metadata": {
        "id": "CzWGyIJkzFhi"
      }
    },
    {
      "cell_type": "code",
      "source": [
        "import numpy as np"
      ],
      "metadata": {
        "id": "CGBhIN23zOK5"
      },
      "execution_count": null,
      "outputs": []
    },
    {
      "cell_type": "markdown",
      "source": [
        "1.Let x = np.arange(4, dtype=np.int64). Create an array of ones with the same shape and type as X."
      ],
      "metadata": {
        "id": "x43jq-cLzRlN"
      }
    },
    {
      "cell_type": "code",
      "source": [
        "y = np.ones(4)\n",
        "y"
      ],
      "metadata": {
        "id": "XPDjdU3bzbQM",
        "colab": {
          "base_uri": "https://localhost:8080/"
        },
        "outputId": "c39cc736-696e-4d2c-a154-3487ef47b83c"
      },
      "execution_count": null,
      "outputs": [
        {
          "output_type": "execute_result",
          "data": {
            "text/plain": [
              "array([1., 1., 1., 1.])"
            ]
          },
          "metadata": {},
          "execution_count": 12
        }
      ]
    },
    {
      "cell_type": "markdown",
      "source": [
        "2.Let X = np.array([[1, 2], [3, 4]]). Convert it into a matrix."
      ],
      "metadata": {
        "id": "1qF79Xggzb9t"
      }
    },
    {
      "cell_type": "code",
      "source": [
        "X = np.array([[1, 2], [3, 4]])\n",
        "y = np.matrix(X)\n",
        "print(y)"
      ],
      "metadata": {
        "id": "eRNT8Njgzg7v",
        "colab": {
          "base_uri": "https://localhost:8080/"
        },
        "outputId": "15123110-c270-400b-d501-05c4c8219bb7"
      },
      "execution_count": null,
      "outputs": [
        {
          "output_type": "stream",
          "name": "stdout",
          "text": [
            "[[1 2]\n",
            " [3 4]]\n"
          ]
        }
      ]
    },
    {
      "cell_type": "markdown",
      "source": [
        "3.Create a 1-D array of 50 evenly spaced elements between 3. and 10., inclusive."
      ],
      "metadata": {
        "id": "tXeE4p5szhPR"
      }
    },
    {
      "cell_type": "code",
      "source": [
        "x= np.linspace(3, 10, 50)\n",
        "x"
      ],
      "metadata": {
        "id": "SIRZeugHznU7",
        "colab": {
          "base_uri": "https://localhost:8080/"
        },
        "outputId": "a3d433fc-a752-4425-878f-434c6b59013f"
      },
      "execution_count": null,
      "outputs": [
        {
          "output_type": "execute_result",
          "data": {
            "text/plain": [
              "array([ 3.        ,  3.14285714,  3.28571429,  3.42857143,  3.57142857,\n",
              "        3.71428571,  3.85714286,  4.        ,  4.14285714,  4.28571429,\n",
              "        4.42857143,  4.57142857,  4.71428571,  4.85714286,  5.        ,\n",
              "        5.14285714,  5.28571429,  5.42857143,  5.57142857,  5.71428571,\n",
              "        5.85714286,  6.        ,  6.14285714,  6.28571429,  6.42857143,\n",
              "        6.57142857,  6.71428571,  6.85714286,  7.        ,  7.14285714,\n",
              "        7.28571429,  7.42857143,  7.57142857,  7.71428571,  7.85714286,\n",
              "        8.        ,  8.14285714,  8.28571429,  8.42857143,  8.57142857,\n",
              "        8.71428571,  8.85714286,  9.        ,  9.14285714,  9.28571429,\n",
              "        9.42857143,  9.57142857,  9.71428571,  9.85714286, 10.        ])"
            ]
          },
          "metadata": {},
          "execution_count": 17
        }
      ]
    },
    {
      "cell_type": "markdown",
      "source": [
        "4.Let x be array [[1, 2, 3], [4, 5, 6]]. Convert it to [1 4 2 5 3 6]."
      ],
      "metadata": {
        "id": "4YIn7yWczrJ5"
      }
    },
    {
      "cell_type": "code",
      "source": [
        "x = np.array([[1, 2, 3], [4, 5, 6]])\n",
        "\n",
        "ans = x.reshape(-1,order='F')\n",
        "ans"
      ],
      "metadata": {
        "id": "8NYdBgsFztJs",
        "colab": {
          "base_uri": "https://localhost:8080/"
        },
        "outputId": "eeb5bed6-48d5-4563-852f-9d66915b9dd6"
      },
      "execution_count": null,
      "outputs": [
        {
          "output_type": "execute_result",
          "data": {
            "text/plain": [
              "array([1, 4, 2, 5, 3, 6])"
            ]
          },
          "metadata": {},
          "execution_count": 21
        }
      ]
    },
    {
      "cell_type": "markdown",
      "source": [
        "5.Compute the inverse and primary diagnol sum of x=[[1,2],[3,4]]"
      ],
      "metadata": {
        "id": "18JisMZwzthE"
      }
    },
    {
      "cell_type": "code",
      "source": [
        "x = np.array([[1, 2],\n",
        "              [3, 4]])\n",
        "a=np.trace(x)\n",
        "print(a)\n",
        "invx = np.linalg.inv(x)\n",
        "print(invx)"
      ],
      "metadata": {
        "id": "ZOgIMgb9zyW6",
        "colab": {
          "base_uri": "https://localhost:8080/"
        },
        "outputId": "0fd9cb03-cc2d-4f97-8243-2979443b6117"
      },
      "execution_count": null,
      "outputs": [
        {
          "output_type": "stream",
          "name": "stdout",
          "text": [
            "5\n",
            "[[-2.   1. ]\n",
            " [ 1.5 -0.5]]\n"
          ]
        }
      ]
    },
    {
      "cell_type": "markdown",
      "source": [
        "7.Sort x along the second axis. x = [[1,4],[3,1]]"
      ],
      "metadata": {
        "id": "2FqkuP6Jzyw-"
      }
    },
    {
      "cell_type": "code",
      "source": [
        "x = np.array([[1, 4],\n",
        "              [3, 1]])\n",
        "\n",
        "y = np.sort(x, axis=1)\n",
        "print(y)\n"
      ],
      "metadata": {
        "id": "2ojjbvBEz78C",
        "colab": {
          "base_uri": "https://localhost:8080/"
        },
        "outputId": "a516caf5-4d9f-4966-b845-8182d601669d"
      },
      "execution_count": null,
      "outputs": [
        {
          "output_type": "stream",
          "name": "stdout",
          "text": [
            "[[1 4]\n",
            " [1 3]]\n"
          ]
        }
      ]
    },
    {
      "cell_type": "markdown",
      "source": [
        "8.Get the indices that would sort x(as above) along the second axis."
      ],
      "metadata": {
        "id": "0pY6hSsLz8RL"
      }
    },
    {
      "cell_type": "code",
      "source": [
        "idx = np.argsort(x, axis=1)\n",
        "print(idx)"
      ],
      "metadata": {
        "id": "CYRi2deR0JtG",
        "colab": {
          "base_uri": "https://localhost:8080/"
        },
        "outputId": "62adda09-7bbc-4f82-959d-dcc941c00b06"
      },
      "execution_count": null,
      "outputs": [
        {
          "output_type": "stream",
          "name": "stdout",
          "text": [
            "[[0 1]\n",
            " [1 0]]\n"
          ]
        }
      ]
    },
    {
      "cell_type": "markdown",
      "source": [
        " 9.Initiate x as a 2x5 array with random values from 0 to 10(not inclusive).Get the maximum and minimum values and their indices of x along the second axis."
      ],
      "metadata": {
        "id": "z6QPmHIs0QtO"
      }
    },
    {
      "cell_type": "code",
      "source": [
        "x = np.random.rand(2, 5) * 10\n",
        "x"
      ],
      "metadata": {
        "id": "sFFytXTG0S9b",
        "colab": {
          "base_uri": "https://localhost:8080/"
        },
        "outputId": "d5a40872-562c-47fe-fe4c-eff10b7d1b50"
      },
      "execution_count": null,
      "outputs": [
        {
          "output_type": "execute_result",
          "data": {
            "text/plain": [
              "array([[9.86485141, 3.14257198, 8.05990656, 5.38175257, 7.73953358],\n",
              "       [1.49204487, 0.98129201, 7.3146572 , 9.25818984, 4.32694385]])"
            ]
          },
          "metadata": {},
          "execution_count": 43
        }
      ]
    },
    {
      "cell_type": "code",
      "source": [
        "max_value = np.amax(x, axis=1)\n",
        "min_value = np.amin(x, axis=1)\n",
        "print(max_value)\n",
        "print(min_value)\n",
        "idx1=np.argmax(x, axis=1)\n",
        "idx2=np.argmin(x, axis=1)\n",
        "print(idx1)\n",
        "print(idx2)\n"
      ],
      "metadata": {
        "colab": {
          "base_uri": "https://localhost:8080/"
        },
        "id": "ZoNkyRaV4mKo",
        "outputId": "3bd10dd7-f76d-48cb-9e53-5d657714aae5"
      },
      "execution_count": null,
      "outputs": [
        {
          "output_type": "stream",
          "name": "stdout",
          "text": [
            "[9.86485141 9.25818984]\n",
            "[3.14257198 0.98129201]\n",
            "[0 3]\n",
            "[1 1]\n"
          ]
        }
      ]
    },
    {
      "cell_type": "markdown",
      "source": [
        "10.You're tasked with analyzing data from a space exploration mission. The data is stored in a numpy array distances representing the distances (in light-years) of various stars from Earth.\n",
        "\n",
        "Your task is to complete the code by implementing numpy functions to accomplish the tasks outlined in the comments. Ensure that your code is concise, efficient, and produces accurate results."
      ],
      "metadata": {
        "id": "V6DCI3xY17CZ"
      }
    },
    {
      "cell_type": "code",
      "source": [
        "# Array of distances to stars (in light-years)\n",
        "x = np.array([10.2, 20.5, 15.8, 30.1, 25.6])\n",
        "\n",
        "# Task 1: Find the average distance to the stars.\n",
        "# Task 2: Identify the star(s) closest to Earth.\n",
        "# Task 3: Calculate the total distance traveled if a spaceship were to visit each star and return to Earth.\n",
        "# Task 4: Determine if there are any stars beyond a certain threshold distance (e.g., 25 light-years).\n",
        "#1\n",
        "avg = np.mean(x)\n",
        "print(avg)\n",
        "#2\n",
        "x1=np.amin(x)\n",
        "print(x1)\n",
        "#3\n",
        "x2=np.sum(x)\n",
        "print(2*x2)\n",
        "#4\n",
        "flag=0\n",
        "for i in range(np.size(x)):\n",
        "  if(x[i]>25):\n",
        "    print(\"yes\")\n",
        "    flag=1\n",
        "    break\n",
        "if(flag==0): print(\"no\")\n",
        "# Your code here..."
      ],
      "metadata": {
        "id": "pSuEl3wu2OjE",
        "colab": {
          "base_uri": "https://localhost:8080/"
        },
        "outputId": "da5eb860-e48c-4fa4-bfb3-045383231f8d"
      },
      "execution_count": null,
      "outputs": [
        {
          "output_type": "stream",
          "name": "stdout",
          "text": [
            "20.439999999999998\n",
            "10.2\n",
            "204.39999999999998\n",
            "yes\n"
          ]
        }
      ]
    },
    {
      "cell_type": "code",
      "source": [],
      "metadata": {
        "id": "JnmlOttz5dYe"
      },
      "execution_count": null,
      "outputs": []
    },
    {
      "cell_type": "code",
      "source": [],
      "metadata": {
        "id": "8xb2-yjg6oMz"
      },
      "execution_count": null,
      "outputs": []
    }
  ]
}