{
  "nbformat": 4,
  "nbformat_minor": 0,
  "metadata": {
    "colab": {
      "provenance": []
    },
    "kernelspec": {
      "name": "python3",
      "display_name": "Python 3"
    },
    "language_info": {
      "name": "python"
    }
  },
  "cells": [
    {
      "cell_type": "markdown",
      "source": [
        "INSTRUCTIONS:\n",
        "\n",
        "Go to File -> Save a Copy in Drive and edit this notebook in your copy\n",
        "\n",
        "Name the copy as : Name_RollNo_AssignmentNo\n",
        "\n",
        "Put all your doubts on Whatsapp group.\n",
        "\n",
        "try not to use chatgpt"
      ],
      "metadata": {
        "id": "OyPUdxttlp_B"
      }
    },
    {
      "cell_type": "code",
      "source": [
        "import numpy as np"
      ],
      "metadata": {
        "id": "oopwCcsNmLPo"
      },
      "execution_count": null,
      "outputs": []
    },
    {
      "cell_type": "markdown",
      "source": [
        "1.Create a variable temperature and assign it the value of the current temperature in your city.\n",
        "\n",
        "> Add blockquote\n",
        "\n",
        "\n",
        "Create another variable weather and assign it a string describing the weather (e.g., \"sunny\", \"rainy\", \"cloudy\")."
      ],
      "metadata": {
        "id": "Nw14j5trnfo9"
      }
    },
    {
      "cell_type": "code",
      "source": [
        "temp=43\n",
        "weather=\"sunny\""
      ],
      "metadata": {
        "id": "US3KhCxTmOZ2"
      },
      "execution_count": null,
      "outputs": []
    },
    {
      "cell_type": "markdown",
      "source": [
        "2.mixed_data_types = [1, 2.5, \"hello\", True, [1, 2, 3]]\n",
        "\n",
        "   Check the data type of each element in the list."
      ],
      "metadata": {
        "id": "3kXpl1d3o2K3"
      }
    },
    {
      "cell_type": "code",
      "source": [
        "mixed_data_types = [1, 2.5, \"hello\", True, [1, 2, 3]]\n",
        "for i in range(5):\n",
        "  print(type(mixed_data_types[i]))"
      ],
      "metadata": {
        "id": "p8hD4zpOpfpH",
        "colab": {
          "base_uri": "https://localhost:8080/"
        },
        "outputId": "eae9eedb-e0d5-4890-ed47-624d05291679"
      },
      "execution_count": null,
      "outputs": [
        {
          "output_type": "stream",
          "name": "stdout",
          "text": [
            "<class 'int'>\n",
            "<class 'float'>\n",
            "<class 'str'>\n",
            "<class 'bool'>\n",
            "<class 'list'>\n"
          ]
        }
      ]
    },
    {
      "cell_type": "markdown",
      "source": [
        "3.Calculate the area of a circle with radius r = 5.\n",
        "\n",
        "Calculate the square root of a number of your choice."
      ],
      "metadata": {
        "id": "0nk9Ihl6p2j3"
      }
    },
    {
      "cell_type": "code",
      "source": [
        "import math\n",
        "print(3.14*5*5)\n",
        "a=67\n",
        "x=math.sqrt(67)\n",
        "print(x)"
      ],
      "metadata": {
        "id": "W2NGslQ3qCWg",
        "colab": {
          "base_uri": "https://localhost:8080/"
        },
        "outputId": "2771ef5a-08f5-4d02-803b-7e9bc073b1d5"
      },
      "execution_count": null,
      "outputs": [
        {
          "output_type": "stream",
          "name": "stdout",
          "text": [
            "78.5\n",
            "8.18535277187245\n"
          ]
        }
      ]
    },
    {
      "cell_type": "markdown",
      "source": [
        "4.Create a string containing the following lyrics\n",
        "\n",
        "It was the best of times,\n",
        "it was the worst of times,\n",
        "it was the age of wisdom,\n",
        "it was the age of foolishness,\n",
        "it was the epoch of belief,\n",
        "it was the epoch of incredulity,\n",
        "it was the season of Light,\n",
        "it was the season of Darkness,\n",
        "it was the spring of hope,\n",
        "it was the winter of despair,\n",
        "\n",
        "Count the number of occurrences of the word \"the\" and \"epoch\" in the string."
      ],
      "metadata": {
        "id": "yJ5dhOE4qCpN"
      }
    },
    {
      "cell_type": "code",
      "source": [
        "s=\"It was the best of times, it was the worst of times, it was the age of wisdom, it was the age of foolishness, it was the epoch of belief, it was the epoch of incredulity, it was the season of Light, it was the season of Darkness, it was the spring of hope, it was the winter of despair,\"\n",
        "count=0\n",
        "s1=s.split()\n",
        "for x in s1:\n",
        "  if x==\"the\" or x==\"epoch\":\n",
        "    count=count+1\n",
        "print(count)"
      ],
      "metadata": {
        "id": "4Zt8B8-rsIEo",
        "colab": {
          "base_uri": "https://localhost:8080/"
        },
        "outputId": "401d9dcf-8a75-412b-f7fb-932d5354f36e"
      },
      "execution_count": null,
      "outputs": [
        {
          "output_type": "stream",
          "name": "stdout",
          "text": [
            "12\n"
          ]
        }
      ]
    },
    {
      "cell_type": "markdown",
      "source": [
        "5.Implement a boolean logic puzzle where the user needs to answer whether a given number is divisible by both 2 and 3. Fill in the Blanks"
      ],
      "metadata": {
        "id": "cbc9kxLasKfV"
      }
    },
    {
      "cell_type": "code",
      "source": [
        "# Get the number from the user\n",
        "number = int(input((\"Enter a number: \")))\n",
        "\n",
        "# Check if the number is divisible by both 2 and 3\n",
        "is_divisible_by_2_and_3 = (number%2 == 0) and (number%3 == 0)\n",
        "\n",
        "# Print the result\n",
        "if is_divisible_by_2_and_3:\n",
        "    print(f\"{number} is divisible by both 2 and 3.\")\n",
        "else:\n",
        "    print(f\"{number} is not divisible by both 2 and 3.\")"
      ],
      "metadata": {
        "id": "Lud3HjHusW-i",
        "colab": {
          "base_uri": "https://localhost:8080/"
        },
        "outputId": "fa350243-7954-4969-cb7b-52360f2278de"
      },
      "execution_count": null,
      "outputs": [
        {
          "output_type": "stream",
          "name": "stdout",
          "text": [
            "Enter a number: 78\n",
            "78 is divisible by both 2 and 3.\n"
          ]
        }
      ]
    },
    {
      "cell_type": "markdown",
      "source": [
        "6.Check if the result of (10 - 5) is greater than or equal to (7 * 2)."
      ],
      "metadata": {
        "id": "WsuwkrCWs94L"
      }
    },
    {
      "cell_type": "code",
      "source": [
        "#result of (10 - 5) what?\n",
        "x=int(input())\n",
        "if x>14 or x==14:\n",
        "  print(\"yes\")\n",
        "else:\n",
        "  print(\"no\")"
      ],
      "metadata": {
        "id": "e-MxZ9HytE2l",
        "colab": {
          "base_uri": "https://localhost:8080/"
        },
        "outputId": "41215d34-c20d-4aed-faee-3a14ff570f77"
      },
      "execution_count": null,
      "outputs": [
        {
          "output_type": "stream",
          "name": "stdout",
          "text": [
            "67\n",
            "yes\n"
          ]
        }
      ]
    },
    {
      "cell_type": "markdown",
      "source": [
        "7.Implement a function to find the intersection of the lists [1, 2, 3, 4, 5] and [4, 5, 6, 7, 8].Fill in the Blanks"
      ],
      "metadata": {
        "id": "fPkaAyoetImF"
      }
    },
    {
      "cell_type": "code",
      "source": [
        "def find_intersection(list1, list2):\n",
        "    \"\"\"\n",
        "    Find the intersection of two lists.\n",
        "\n",
        "    Parameters:\n",
        "    - list1: The first list.\n",
        "    - list2: The second list.\n",
        "\n",
        "    Returns:\n",
        "    - intersection: A list containing the common elements between list1 and list2.\n",
        "    \"\"\"\n",
        "    a=set(list1)\n",
        "    b=set(list2)\n",
        "    intersection = a.intersection(b)\n",
        "\n",
        "    return intersection\n",
        "    # Test the function with the given lists\n",
        "list1 = [1, 2, 3, 4, 5]\n",
        "list2 = [4, 5, 6, 7, 8]\n",
        "\n",
        "print(\"Intersection:\",find_intersection(list1, list2))"
      ],
      "metadata": {
        "collapsed": true,
        "id": "bwt3WXXftPZs",
        "colab": {
          "base_uri": "https://localhost:8080/"
        },
        "outputId": "7d2b6011-731b-46ba-e5bc-44de2b1ae902"
      },
      "execution_count": null,
      "outputs": [
        {
          "output_type": "stream",
          "name": "stdout",
          "text": [
            "Intersection: {4, 5}\n"
          ]
        }
      ]
    },
    {
      "cell_type": "markdown",
      "source": [
        "8.Implement a grading system based on student scores where scores above 60 are considered pass and below are fail. Test the function with scores given\n",
        "\n",
        "scores = [75, 45, 80, 30, 65]"
      ],
      "metadata": {
        "id": "TgrYaYS8uk7S"
      }
    },
    {
      "cell_type": "code",
      "source": [
        "def func(x):\n",
        "  if(x>60):\n",
        "    print(\"pass\")\n",
        "  else:\n",
        "    print(\"fail\")\n",
        "\n",
        "scores = [75, 45, 80, 30, 65]\n",
        "for x in scores:\n",
        "  func(x)"
      ],
      "metadata": {
        "id": "XKY6tnZPup4E",
        "colab": {
          "base_uri": "https://localhost:8080/"
        },
        "outputId": "51c0b4d8-8b62-4a80-c56f-877694d1d5d9"
      },
      "execution_count": null,
      "outputs": [
        {
          "output_type": "stream",
          "name": "stdout",
          "text": [
            "pass\n",
            "fail\n",
            "pass\n",
            "fail\n",
            "pass\n"
          ]
        }
      ]
    },
    {
      "cell_type": "markdown",
      "source": [
        "9.Implement a countdown timer from 10 to 1 using a while loop."
      ],
      "metadata": {
        "id": "07xikIRmut5-"
      }
    },
    {
      "cell_type": "code",
      "source": [
        "import time\n",
        "x=10\n",
        "while x>0:\n",
        "    print(x)\n",
        "    time.sleep(1)\n",
        "    x-=1"
      ],
      "metadata": {
        "id": "zGynzWHou2Lw",
        "colab": {
          "base_uri": "https://localhost:8080/"
        },
        "outputId": "991f2ea7-f58d-4d7e-9b16-e72b74b9c461"
      },
      "execution_count": null,
      "outputs": [
        {
          "output_type": "stream",
          "name": "stdout",
          "text": [
            "10\n",
            "9\n",
            "8\n",
            "7\n",
            "6\n",
            "5\n",
            "4\n",
            "3\n",
            "2\n",
            "1\n"
          ]
        }
      ]
    },
    {
      "cell_type": "markdown",
      "source": [
        "10.Make a function that sums the list mylist = [1,2,3,4,5]\n",
        "\n",
        "Can functions be called inside a function?\n",
        "\n",
        "Can a function call itself?\n",
        "\n",
        "Can variables defined in a function be used in another function?\n",
        "\n",
        "print the answers of theoretical questions and mention the concept."
      ],
      "metadata": {
        "id": "ec5zg2bpu3I3"
      }
    },
    {
      "cell_type": "code",
      "source": [
        "mylist = [1,2,3,4,5]\n",
        "print(sum(mylist))"
      ],
      "metadata": {
        "id": "i5HEpLb2xU2m",
        "colab": {
          "base_uri": "https://localhost:8080/"
        },
        "outputId": "4c4481c4-bcd0-4436-e9f2-10e79a0fd120"
      },
      "execution_count": null,
      "outputs": [
        {
          "output_type": "stream",
          "name": "stdout",
          "text": [
            "15\n"
          ]
        }
      ]
    },
    {
      "cell_type": "markdown",
      "source": [
        "2) yes,\n",
        "3)yes..recursion\n",
        "4)no..thet are local variables.\n"
      ],
      "metadata": {
        "id": "xTkA0wQqw5F0"
      }
    }
  ]
}